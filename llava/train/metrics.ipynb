{
 "cells": [
  {
   "cell_type": "code",
   "execution_count": 31,
   "metadata": {},
   "outputs": [
    {
     "name": "stdout",
     "output_type": "stream",
     "text": [
      "{'map': tensor(-1.), 'map_50': tensor(-1.), 'map_75': tensor(-1.), 'map_small': tensor(-1.), 'map_medium': tensor(-1.), 'map_large': tensor(-1.), 'mar_1': tensor(-1.), 'mar_10': tensor(-1.), 'mar_100': tensor(-1.), 'mar_small': tensor(-1.), 'mar_medium': tensor(-1.), 'mar_large': tensor(-1.), 'map_per_class': tensor(-1.), 'mar_100_per_class': tensor(-1.), 'classes': tensor(0, dtype=torch.int32)}\n"
     ]
    }
   ],
   "source": [
    "from torch import BoolTensor, IntTensor, Tensor\n",
    "from torchmetrics.detection.mean_ap import MeanAveragePrecision\n",
    "\n",
    "# Preds should be a list of elements, where each element is a dict\n",
    "# containing 3 keys: boxes, scores, labels\n",
    "targets = [\n",
    "    {\n",
    "        \"boxes\": Tensor([[0, 0, 100, 100]]),\n",
    "        \"labels\": IntTensor([0]),\n",
    "    }\n",
    "]\n",
    "\n",
    "targets2 = [\n",
    "    {\n",
    "        \"boxes\": Tensor([]),\n",
    "        \"labels\": IntTensor([]),\n",
    "    }\n",
    "]\n",
    "\n",
    "preds = [\n",
    "    {\n",
    "        \"boxes\": Tensor([[20, 0, 100, 100]]),\n",
    "        \"scores\": Tensor([1]),\n",
    "        \"labels\": IntTensor([0]),\n",
    "    }\n",
    "]\n",
    "\n",
    "preds2 = [\n",
    "    {\n",
    "        \"boxes\": Tensor([]),\n",
    "        \"scores\": Tensor([]),\n",
    "        \"labels\": IntTensor([]),\n",
    "    }\n",
    "]\n",
    "\n",
    "\n",
    "# Initialize metric\n",
    "metric = MeanAveragePrecision(box_format=\"xywh\", iou_type=\"bbox\")\n",
    "\n",
    "# Update metric with predictions and respective ground truth\n",
    "metric.update(preds, targets2)\n",
    "\n",
    "# Compute the results\n",
    "result = metric.compute()\n",
    "print(result)\n"
   ]
  },
  {
   "cell_type": "code",
   "execution_count": 30,
   "metadata": {},
   "outputs": [
    {
     "data": {
      "text/plain": [
       "MeanAveragePrecision(map50_95=0.398, map50=0.995, map75=0.0, per_class_ap50_95=array([[0.995, 0.995, 0.995, 0.995, 0.   , 0.   , 0.   , 0.   , 0.   ,\n",
       "        0.   ]]))"
      ]
     },
     "execution_count": 30,
     "metadata": {},
     "output_type": "execute_result"
    }
   ],
   "source": [
    "import numpy as np\n",
    "import supervision as sv\n",
    "\n",
    "targets = [\n",
    "    np.array([[0, 0, 100, 100, 0]]),\n",
    "]\n",
    "\n",
    "preds = [\n",
    "    np.array([[20, 0, 120, 100, 0, 1]]),\n",
    "]\n",
    "\n",
    "mean_average_precision = sv.MeanAveragePrecision.from_tensors(\n",
    "    predictions=preds,\n",
    "    targets=targets,\n",
    ")\n",
    "mean_average_precision"
   ]
  },
  {
   "cell_type": "code",
   "execution_count": 45,
   "metadata": {},
   "outputs": [
    {
     "data": {
      "image/png": "[encoded data removed]",
      "text/plain": [
       "<Figure size 640x480 with 1 Axes>"
      ]
     },
     "metadata": {},
     "output_type": "display_data"
    },
    {
     "name": "stdout",
     "output_type": "stream",
     "text": [
      "0.6097503808742529\n"
     ]
    }
   ],
   "source": [
    "groundTruth = [90, 80, 250, 450] # [x1, y1, x2, y2]\n",
    "prediction = [100, 100, 220, 400] # [x1, y1, x2, y2]\n",
    "\n",
    "# plot the ground truth and prediction rectangles\n",
    "import matplotlib.pyplot as plt\n",
    "\n",
    "fig, ax = plt.subplots()\n",
    "ax.plot([groundTruth[0], groundTruth[2]], [groundTruth[1], groundTruth[1]], color='r')\n",
    "ax.plot([groundTruth[0], groundTruth[2]], [groundTruth[3], groundTruth[3]], color='r')\n",
    "ax.plot([groundTruth[0], groundTruth[0]], [groundTruth[1], groundTruth[3]], color='r')\n",
    "ax.plot([groundTruth[2], groundTruth[2]], [groundTruth[1], groundTruth[3]], color='r')\n",
    "\n",
    "ax.plot([prediction[0], prediction[2]], [prediction[1], prediction[1]], color='b')\n",
    "ax.plot([prediction[0], prediction[2]], [prediction[3], prediction[3]], color='b')\n",
    "ax.plot([prediction[0], prediction[0]], [prediction[1], prediction[3]], color='b')\n",
    "ax.plot([prediction[2], prediction[2]], [prediction[1], prediction[3]], color='b')\n",
    "\n",
    "plt.show()\n",
    "\n",
    "# calculate the intersection over union (IoU) between the ground truth and prediction\n",
    "iou = 0\n",
    "x1 = max(groundTruth[0], prediction[0])\n",
    "y1 = max(groundTruth[1], prediction[1])\n",
    "x2 = min(groundTruth[2], prediction[2])\n",
    "y2 = min(groundTruth[3], prediction[3])\n",
    "\n",
    "intersection = max(0, x2 - x1 + 1) * max(0, y2 - y1 + 1)\n",
    "union = (groundTruth[2] - groundTruth[0] + 1) * (groundTruth[3] - groundTruth[1] + 1) + (prediction[2] - prediction[0] + 1) * (prediction[3] - prediction[1] + 1) - intersection\n",
    "iou = intersection / union\n",
    "print(iou)"
   ]
  }
 ],
 "metadata": {
  "kernelspec": {
   "display_name": "llava",
   "language": "python",
   "name": "python3"
  },
  "language_info": {
   "codemirror_mode": {
    "name": "ipython",
    "version": 3
   },
   "file_extension": ".py",
   "mimetype": "text/x-python",
   "name": "python",
   "nbconvert_exporter": "python",
   "pygments_lexer": "ipython3",
   "version": "3.10.14"
  }
 },
 "nbformat": 4,
 "nbformat_minor": 2
}
